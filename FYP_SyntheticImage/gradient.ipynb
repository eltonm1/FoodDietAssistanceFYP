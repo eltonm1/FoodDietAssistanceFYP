{
 "cells": [
  {
   "cell_type": "code",
   "execution_count": 2,
   "metadata": {},
   "outputs": [],
   "source": [
    "import matplotlib.pyplot as plt\n",
    "import numpy as np\n",
    "from PIL import Image, ImageDraw\n"
   ]
  },
  {
   "cell_type": "code",
   "execution_count": 3,
   "metadata": {},
   "outputs": [],
   "source": [
    "# Create blank canvas with zero alpha channel\n",
    "w, h = (800, 600)\n",
    "image = Image.new('RGBA', (w, h), (0, 0, 0, 0))\n",
    "\n",
    "polygon = [(500, 50), (650, 250), (775, 150), (700, 25)]\n",
    "point1 = (700, 25)\n",
    "point2 = (650, 250)\n",
    "color1 = (255, 255, 0)\n",
    "color2 = (0, 0, 255)"
   ]
  },
  {
   "cell_type": "code",
   "execution_count": 4,
   "metadata": {},
   "outputs": [],
   "source": [
    "def linear_gradient(i, poly, p1, p2, c1, c2):\n",
    "\n",
    "    # Draw initial polygon, alpha channel only, on an empty canvas of image size\n",
    "    ii = Image.new('RGBA', i.size, (0, 0, 0, 0))\n",
    "    draw = ImageDraw.Draw(ii)\n",
    "    draw.polygon(poly, fill=(0, 0, 0, 255), outline=None)\n",
    "\n",
    "    # Calculate angle between point 1 and 2\n",
    "    p1 = np.array(p1)\n",
    "    p2 = np.array(p2)\n",
    "    angle = np.arctan2(p2[1] - p1[1], p2[0] - p1[0]) / np.pi * 180\n",
    "\n",
    "    # Rotate and crop shape\n",
    "    temp = ii.rotate(angle, expand=True)\n",
    "    temp = temp.crop(temp.getbbox())\n",
    "    wt, ht = temp.size\n",
    "\n",
    "    # Create gradient from color 1 to 2 of appropriate size\n",
    "    gradient = np.linspace(c1, c2, wt, True).astype(np.uint8)\n",
    "    gradient = np.tile(gradient, [2 * h, 1, 1])\n",
    "    gradient = Image.fromarray(gradient)\n",
    "\n",
    "    # Paste gradient on blank canvas of sufficient size\n",
    "    temp = Image.new('RGBA', (max(i.size[0], gradient.size[0]),\n",
    "                              max(i.size[1], gradient.size[1])), (0, 0, 0, 0))\n",
    "    temp.paste(gradient)\n",
    "    gradient = temp\n",
    "\n",
    "    # Rotate and translate gradient appropriately\n",
    "    x = np.sin(angle * np.pi / 180) * ht\n",
    "    y = np.cos(angle * np.pi / 180) * ht\n",
    "    gradient = gradient.rotate(-angle, center=(0, 0),\n",
    "                               translate=(p1[0] + x, p1[1] - y))\n",
    "\n",
    "    # Paste gradient on temporary image\n",
    "    ii.paste(gradient.crop((0, 0, ii.size[0], ii.size[1])), mask=ii)\n",
    "\n",
    "    # Paste temporary image on actual image\n",
    "    i.paste(ii, mask=ii)\n",
    "\n",
    "    return i"
   ]
  },
  {
   "cell_type": "code",
   "execution_count": 5,
   "metadata": {},
   "outputs": [],
   "source": [
    "image = linear_gradient(image, polygon, point1, point2, color1, color2)"
   ]
  },
  {
   "cell_type": "code",
   "execution_count": 6,
   "metadata": {},
   "outputs": [
    {
     "data": {
      "image/png": "[encoded data removed]",
      "text/plain": [
       "<Figure size 640x480 with 1 Axes>"
      ]
     },
     "metadata": {},
     "output_type": "display_data"
    }
   ],
   "source": [
    "plt.imshow(image)\n",
    "plt.show()"
   ]
  },
  {
   "cell_type": "code",
   "execution_count": null,
   "metadata": {},
   "outputs": [],
   "source": []
  }
 ],
 "metadata": {
  "kernelspec": {
   "display_name": "Python 3.10.4 ('fyp_synth')",
   "language": "python",
   "name": "python3"
  },
  "language_info": {
   "codemirror_mode": {
    "name": "ipython",
    "version": 3
   },
   "file_extension": ".py",
   "mimetype": "text/x-python",
   "name": "python",
   "nbconvert_exporter": "python",
   "pygments_lexer": "ipython3",
   "version": "3.10.4"
  },
  "orig_nbformat": 4,
  "vscode": {
   "interpreter": {
    "hash": "3fcb3f673a8bdc5a3cb6154ef456f47a0a6b5ab16b723fed50998037d3ef89e6"
   }
  }
 },
 "nbformat": 4,
 "nbformat_minor": 2
}
