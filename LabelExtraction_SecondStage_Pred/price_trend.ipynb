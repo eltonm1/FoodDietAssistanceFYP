{
 "cells": [
  {
   "cell_type": "code",
   "execution_count": 22,
   "metadata": {},
   "outputs": [
    {
     "name": "stderr",
     "output_type": "stream",
     "text": [
      "Done['P000002651', '041608087048']:  20%|██        | 427/2094 [01:56<09:23,  2.96it/s]                                 "
     ]
    },
    {
     "name": "stdout",
     "output_type": "stream",
     "text": [
      "Not found\n"
     ]
    },
    {
     "name": "stderr",
     "output_type": "stream",
     "text": [
      "Done['P000001382', '4892309000050']:  29%|██▊       | 599/2094 [02:58<08:05,  3.08it/s]"
     ]
    },
    {
     "name": "stdout",
     "output_type": "stream",
     "text": [
      "Not found\n"
     ]
    },
    {
     "name": "stderr",
     "output_type": "stream",
     "text": [
      "Done['P000001416', '4891080241102']: 100%|██████████| 2094/2094 [12:17<00:00,  2.84it/s]                \n"
     ]
    }
   ],
   "source": [
    "\n",
    "import requests\n",
    "from bs4 import BeautifulSoup\n",
    "import pandas as pd\n",
    "from tqdm import tqdm\n",
    "\n",
    "x = pd.read_csv(\"price.csv\")\n",
    "product_code = list(set(x[\"Product Code\"]))\n",
    "\n",
    "all_code = []\n",
    "with open(\"all_code.txt\", \"w\") as f:\n",
    "    for code in (pbar := tqdm(product_code)):\n",
    "        url = f\"https://online-price-watch.consumer.org.hk/opw/product/{code}\"\n",
    "        r = requests.get(url)\n",
    "        soup = BeautifulSoup(r.text, \"html.parser\")\n",
    "        try:\n",
    "            barcode = soup.find(\"div\", {\"class\": \"product-info\"}).find('p').text.split('：')[-1].strip()\n",
    "            all_code.append([code, barcode])\n",
    "            pbar.set_description(f\"Done{[code, barcode]}\")\n",
    "            f.writelines(f\"{code},{barcode}\\n\")\n",
    "        except:\n",
    "            print(\"Not found\")\n",
    "\n",
    "# Making a GET request\n",
    "# r = requests.get('https://www.geeksforgeeks.org/python-programming-language/')\n",
    " \n",
    "# # Parsing the HTML\n",
    "# soup = BeautifulSoup(r.content, 'html.parser')\n",
    " \n",
    "# # Finding by id\n",
    "# s = soup.find('div', id= 'main')\n",
    " \n",
    "# # Getting the leftbar\n",
    "# leftbar = s.find('ul', class_='leftBarList')\n",
    " \n",
    "# # All the li under the above ul\n",
    "# content = leftbar.find_all('li')\n",
    " \n",
    "# print(content)"
   ]
  }
 ],
 "metadata": {
  "kernelspec": {
   "display_name": "Python 3.10.6 ('pt')",
   "language": "python",
   "name": "python3"
  },
  "language_info": {
   "codemirror_mode": {
    "name": "ipython",
    "version": 3
   },
   "file_extension": ".py",
   "mimetype": "text/x-python",
   "name": "python",
   "nbconvert_exporter": "python",
   "pygments_lexer": "ipython3",
   "version": "3.10.6"
  },
  "orig_nbformat": 4,
  "vscode": {
   "interpreter": {
    "hash": "402a900feaab21d582bb7f61638e7546e9c71ae68b4712ccad777440c7b1549d"
   }
  }
 },
 "nbformat": 4,
 "nbformat_minor": 2
}
